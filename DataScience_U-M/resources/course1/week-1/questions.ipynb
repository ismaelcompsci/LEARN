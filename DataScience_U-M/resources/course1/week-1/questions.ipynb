{
 "cells": [
  {
   "attachments": {},
   "cell_type": "markdown",
   "metadata": {},
   "source": [
    "# The Python Programming Language: Lambda and List Comprehensions"
   ]
  },
  {
   "attachments": {},
   "cell_type": "markdown",
   "metadata": {},
   "source": [
    "#### Here, why don’t you try converting a function into a list comprehension."
   ]
  },
  {
   "cell_type": "code",
   "execution_count": 2,
   "metadata": {},
   "outputs": [
    {
     "data": {
      "text/plain": [
       "True"
      ]
     },
     "execution_count": 2,
     "metadata": {},
     "output_type": "execute_result"
    }
   ],
   "source": [
    "def times_tables():\n",
    "    lst = []\n",
    "    for i in range(10):\n",
    "        for j in range (10):\n",
    "            lst.append(i*j)\n",
    "    return lst\n",
    "\n",
    "times_tables() == [i*j for i in range(10) for j in range(10)]"
   ]
  },
  {
   "attachments": {},
   "cell_type": "markdown",
   "metadata": {},
   "source": [
    "Here’s a harder question which brings a few things together.\n",
    "\n",
    "Many organizations have user ids which are constrained in some way. Imagine you work at an internet service provider and the user ids are all two letters followed by two numbers (e.g. aa49). Your task at such an organization might be to hold a record on the billing activity for each possible user. \n",
    "\n",
    "Write an initialization line as a single list comprehension which creates a list of all possible user ids. Assume the letters are all lower case."
   ]
  },
  {
   "cell_type": "code",
   "execution_count": 6,
   "metadata": {},
   "outputs": [
    {
     "data": {
      "text/plain": [
       "['aa00',\n",
       " 'aa01',\n",
       " 'aa02',\n",
       " 'aa03',\n",
       " 'aa04',\n",
       " 'aa05',\n",
       " 'aa06',\n",
       " 'aa07',\n",
       " 'aa08',\n",
       " 'aa09',\n",
       " 'aa10',\n",
       " 'aa11',\n",
       " 'aa12',\n",
       " 'aa13',\n",
       " 'aa14',\n",
       " 'aa15',\n",
       " 'aa16',\n",
       " 'aa17',\n",
       " 'aa18',\n",
       " 'aa19',\n",
       " 'aa20',\n",
       " 'aa21',\n",
       " 'aa22',\n",
       " 'aa23',\n",
       " 'aa24',\n",
       " 'aa25',\n",
       " 'aa26',\n",
       " 'aa27',\n",
       " 'aa28',\n",
       " 'aa29',\n",
       " 'aa30',\n",
       " 'aa31',\n",
       " 'aa32',\n",
       " 'aa33',\n",
       " 'aa34',\n",
       " 'aa35',\n",
       " 'aa36',\n",
       " 'aa37',\n",
       " 'aa38',\n",
       " 'aa39']"
      ]
     },
     "execution_count": 6,
     "metadata": {},
     "output_type": "execute_result"
    }
   ],
   "source": [
    "lowercase = 'abcdefghijklmnopqrstuvwxyz'\n",
    "digits = '0123456789'\n",
    "\n",
    "answer = [a+b+c+d for a in lowercase for b in lowercase for c in digits for d in digits]\n",
    "answer[0:40]\n",
    "# correct_answer == answer"
   ]
  },
  {
   "attachments": {},
   "cell_type": "markdown",
   "metadata": {},
   "source": [
    "# Regex\n"
   ]
  }
 ],
 "metadata": {
  "kernelspec": {
   "display_name": "Python 3",
   "language": "python",
   "name": "python3"
  },
  "language_info": {
   "codemirror_mode": {
    "name": "ipython",
    "version": 3
   },
   "file_extension": ".py",
   "mimetype": "text/x-python",
   "name": "python",
   "nbconvert_exporter": "python",
   "pygments_lexer": "ipython3",
   "version": "3.11.1"
  },
  "orig_nbformat": 4
 },
 "nbformat": 4,
 "nbformat_minor": 2
}
